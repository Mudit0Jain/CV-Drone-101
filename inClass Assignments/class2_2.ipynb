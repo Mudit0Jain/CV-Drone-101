{
  "nbformat": 4,
  "nbformat_minor": 0,
  "metadata": {
    "colab": {
      "provenance": []
    },
    "kernelspec": {
      "name": "python3",
      "display_name": "Python 3"
    },
    "language_info": {
      "name": "python"
    }
  },
  "cells": [
    {
      "cell_type": "code",
      "execution_count": 1,
      "metadata": {
        "id": "CU0D_UR91isf"
      },
      "outputs": [],
      "source": [
        "import cv2\n",
        "import numpy as np\n",
        "import matplotlib.pyplot as plt"
      ]
    },
    {
      "cell_type": "code",
      "source": [
        "def solve(s):\n",
        "  img = cv2.imread(s)\n",
        "  plt.imshow(img[:,:,-1])\n",
        "  blurred = cv2.GaussianBlur(img,(5,5),0)\n",
        "  Edges = cv2.Canny(blurred,100,160)\n",
        "  plt.figure(figsize=[10,10])\n",
        "  plt.imshow(Edges,cmap=\"gray\");plt.title(\"Edge Image\")\n",
        "  return 0"
      ],
      "metadata": {
        "id": "ZyTQ9qMy13IA"
      },
      "execution_count": 4,
      "outputs": []
    },
    {
      "cell_type": "code",
      "source": [],
      "metadata": {
        "id": "AMtcScYa2JpR"
      },
      "execution_count": null,
      "outputs": []
    }
  ]
}